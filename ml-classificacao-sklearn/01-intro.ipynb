{
 "cells": [
  {
   "cell_type": "markdown",
   "id": "4d3d6da1-7068-41db-a77d-57ea4f211994",
   "metadata": {},
   "source": [
    "# Machine Learning: Classificação com SKLearn"
   ]
  },
  {
   "cell_type": "markdown",
   "id": "6a12e899-8363-449a-b98c-81e357d86ba6",
   "metadata": {
    "jp-MarkdownHeadingCollapsed": true,
    "tags": [],
    "toc-hr-collapsed": true
   },
   "source": [
    "## 01. Introdução à Classificação."
   ]
  },
  {
   "cell_type": "markdown",
   "id": "84da13fc-6e42-4f1f-ba93-26e568ec0db9",
   "metadata": {
    "jp-MarkdownHeadingCollapsed": true,
    "tags": []
   },
   "source": [
    "### Primeiro Treino e Teste de Classificação"
   ]
  },
  {
   "cell_type": "code",
   "execution_count": 1,
   "id": "e9c1bca7-c495-4061-b056-1b187ae2c5f7",
   "metadata": {},
   "outputs": [],
   "source": [
    "# features ( 0 não, 1 sim )\n",
    "# [ pelo longo, perna curta, faz auau ]\n",
    "\n",
    "pig1 = [ 0, 1, 0 ]\n",
    "pig2 = [ 0, 1, 1 ]\n",
    "pig3 = [ 1, 1, 0 ]\n",
    "\n",
    "dog1 = [ 0, 1, 1 ]\n",
    "dog2 = [ 1, 0, 1 ]\n",
    "dog3 = [ 1, 1, 1 ]\n",
    "\n",
    "# pig => 1, dog => 0\n",
    "dados = [ pig1, pig2, pig3, dog1, dog2, dog3 ]\n",
    "classes = [ 1, 1, 1, 0, 0, 0 ]\n"
   ]
  },
  {
   "cell_type": "code",
   "execution_count": 2,
   "id": "ee2cb5a7-5d66-4379-a175-0f0ce2bae526",
   "metadata": {},
   "outputs": [
    {
     "data": {
      "text/html": [
       "<style>#sk-container-id-1 {color: black;background-color: white;}#sk-container-id-1 pre{padding: 0;}#sk-container-id-1 div.sk-toggleable {background-color: white;}#sk-container-id-1 label.sk-toggleable__label {cursor: pointer;display: block;width: 100%;margin-bottom: 0;padding: 0.3em;box-sizing: border-box;text-align: center;}#sk-container-id-1 label.sk-toggleable__label-arrow:before {content: \"▸\";float: left;margin-right: 0.25em;color: #696969;}#sk-container-id-1 label.sk-toggleable__label-arrow:hover:before {color: black;}#sk-container-id-1 div.sk-estimator:hover label.sk-toggleable__label-arrow:before {color: black;}#sk-container-id-1 div.sk-toggleable__content {max-height: 0;max-width: 0;overflow: hidden;text-align: left;background-color: #f0f8ff;}#sk-container-id-1 div.sk-toggleable__content pre {margin: 0.2em;color: black;border-radius: 0.25em;background-color: #f0f8ff;}#sk-container-id-1 input.sk-toggleable__control:checked~div.sk-toggleable__content {max-height: 200px;max-width: 100%;overflow: auto;}#sk-container-id-1 input.sk-toggleable__control:checked~label.sk-toggleable__label-arrow:before {content: \"▾\";}#sk-container-id-1 div.sk-estimator input.sk-toggleable__control:checked~label.sk-toggleable__label {background-color: #d4ebff;}#sk-container-id-1 div.sk-label input.sk-toggleable__control:checked~label.sk-toggleable__label {background-color: #d4ebff;}#sk-container-id-1 input.sk-hidden--visually {border: 0;clip: rect(1px 1px 1px 1px);clip: rect(1px, 1px, 1px, 1px);height: 1px;margin: -1px;overflow: hidden;padding: 0;position: absolute;width: 1px;}#sk-container-id-1 div.sk-estimator {font-family: monospace;background-color: #f0f8ff;border: 1px dotted black;border-radius: 0.25em;box-sizing: border-box;margin-bottom: 0.5em;}#sk-container-id-1 div.sk-estimator:hover {background-color: #d4ebff;}#sk-container-id-1 div.sk-parallel-item::after {content: \"\";width: 100%;border-bottom: 1px solid gray;flex-grow: 1;}#sk-container-id-1 div.sk-label:hover label.sk-toggleable__label {background-color: #d4ebff;}#sk-container-id-1 div.sk-serial::before {content: \"\";position: absolute;border-left: 1px solid gray;box-sizing: border-box;top: 0;bottom: 0;left: 50%;z-index: 0;}#sk-container-id-1 div.sk-serial {display: flex;flex-direction: column;align-items: center;background-color: white;padding-right: 0.2em;padding-left: 0.2em;position: relative;}#sk-container-id-1 div.sk-item {position: relative;z-index: 1;}#sk-container-id-1 div.sk-parallel {display: flex;align-items: stretch;justify-content: center;background-color: white;position: relative;}#sk-container-id-1 div.sk-item::before, #sk-container-id-1 div.sk-parallel-item::before {content: \"\";position: absolute;border-left: 1px solid gray;box-sizing: border-box;top: 0;bottom: 0;left: 50%;z-index: -1;}#sk-container-id-1 div.sk-parallel-item {display: flex;flex-direction: column;z-index: 1;position: relative;background-color: white;}#sk-container-id-1 div.sk-parallel-item:first-child::after {align-self: flex-end;width: 50%;}#sk-container-id-1 div.sk-parallel-item:last-child::after {align-self: flex-start;width: 50%;}#sk-container-id-1 div.sk-parallel-item:only-child::after {width: 0;}#sk-container-id-1 div.sk-dashed-wrapped {border: 1px dashed gray;margin: 0 0.4em 0.5em 0.4em;box-sizing: border-box;padding-bottom: 0.4em;background-color: white;}#sk-container-id-1 div.sk-label label {font-family: monospace;font-weight: bold;display: inline-block;line-height: 1.2em;}#sk-container-id-1 div.sk-label-container {text-align: center;}#sk-container-id-1 div.sk-container {/* jupyter's `normalize.less` sets `[hidden] { display: none; }` but bootstrap.min.css set `[hidden] { display: none !important; }` so we also need the `!important` here to be able to override the default hidden behavior on the sphinx rendered scikit-learn.org. See: https://github.com/scikit-learn/scikit-learn/issues/21755 */display: inline-block !important;position: relative;}#sk-container-id-1 div.sk-text-repr-fallback {display: none;}</style><div id=\"sk-container-id-1\" class=\"sk-top-container\"><div class=\"sk-text-repr-fallback\"><pre>LinearSVC()</pre><b>In a Jupyter environment, please rerun this cell to show the HTML representation or trust the notebook. <br />On GitHub, the HTML representation is unable to render, please try loading this page with nbviewer.org.</b></div><div class=\"sk-container\" hidden><div class=\"sk-item\"><div class=\"sk-estimator sk-toggleable\"><input class=\"sk-toggleable__control sk-hidden--visually\" id=\"sk-estimator-id-1\" type=\"checkbox\" checked><label for=\"sk-estimator-id-1\" class=\"sk-toggleable__label sk-toggleable__label-arrow\">LinearSVC</label><div class=\"sk-toggleable__content\"><pre>LinearSVC()</pre></div></div></div></div></div>"
      ],
      "text/plain": [
       "LinearSVC()"
      ]
     },
     "execution_count": 2,
     "metadata": {},
     "output_type": "execute_result"
    }
   ],
   "source": [
    "# importando LinearSVC\n",
    "from sklearn.svm import LinearSVC\n",
    "\n",
    "# adaptando os dados e classes ao modelo\n",
    "model = LinearSVC()\n",
    "model.fit(dados, classes)"
   ]
  },
  {
   "cell_type": "code",
   "execution_count": 3,
   "id": "ffa6c0e0-1efd-4fdf-81b4-c96915167306",
   "metadata": {},
   "outputs": [
    {
     "data": {
      "text/plain": [
       "array([0])"
      ]
     },
     "execution_count": 3,
     "metadata": {},
     "output_type": "execute_result"
    }
   ],
   "source": [
    "# teste de previsão \n",
    "animal_misterioso = [ 1, 1, 1 ]\n",
    "model.predict([animal_misterioso])"
   ]
  },
  {
   "cell_type": "code",
   "execution_count": 4,
   "id": "8948233c-98d0-44c1-a9d3-5144c65d6586",
   "metadata": {},
   "outputs": [
    {
     "data": {
      "text/plain": [
       "array([0, 1, 0])"
      ]
     },
     "execution_count": 4,
     "metadata": {},
     "output_type": "execute_result"
    }
   ],
   "source": [
    "\n",
    "misterio1 = [ 1, 1, 1 ]\n",
    "misterio2 = [ 1, 1, 0 ]\n",
    "misterio3 = [ 0, 1, 1 ]\n",
    "\n",
    "# previsoes de 3 animais misteriosos\n",
    "teste = [ misterio1, misterio2, misterio3 ]\n",
    "previsoes = model.predict(teste)\n",
    "previsoes"
   ]
  },
  {
   "cell_type": "code",
   "execution_count": 5,
   "id": "80301885-cceb-46b5-a953-30f763cb4608",
   "metadata": {},
   "outputs": [],
   "source": [
    "# classes reais dos animais misteriosos\n",
    "testes_classes = [ 0, 1, 1 ]"
   ]
  },
  {
   "cell_type": "code",
   "execution_count": 6,
   "id": "d4cf3084-381c-403f-810b-5b2987fe32a3",
   "metadata": {},
   "outputs": [
    {
     "name": "stdout",
     "output_type": "stream",
     "text": [
      "Taxa de acerto: 66.66666666666666\n"
     ]
    }
   ],
   "source": [
    "# teste de acertos manual\n",
    "corretos = (previsoes == testes_classes).sum()\n",
    "total = len(teste)\n",
    "taxa_de_acerto = corretos / total\n",
    "print (f\"Taxa de acerto: {taxa_de_acerto*100}\")"
   ]
  },
  {
   "cell_type": "code",
   "execution_count": 7,
   "id": "80f3cbc8-5992-4953-8555-b13b7d2cd2fd",
   "metadata": {},
   "outputs": [
    {
     "name": "stdout",
     "output_type": "stream",
     "text": [
      "Taxa de acerto: 66.66666666666666\n"
     ]
    }
   ],
   "source": [
    "# teste de acertos usando a função accuracy_score\n",
    "\n",
    "from sklearn.metrics import accuracy_score\n",
    "\n",
    "taxa_de_acerto2 = accuracy_score(testes_classes, previsoes)\n",
    "print (f\"Taxa de acerto: {taxa_de_acerto2*100}\")"
   ]
  },
  {
   "cell_type": "markdown",
   "id": "f5b3fad0-ad38-40fe-9aa7-55665bb9111f",
   "metadata": {
    "jp-MarkdownHeadingCollapsed": true,
    "tags": []
   },
   "source": [
    "### Refinando o código do primeiro teste"
   ]
  },
  {
   "cell_type": "code",
   "execution_count": 8,
   "id": "430ca192-2bdb-4811-b817-2dfffefded93",
   "metadata": {},
   "outputs": [],
   "source": [
    "# features ( 0 não, 1 sim )\n",
    "# [ pelo longo, perna curta, faz auau ]\n",
    "\n",
    "pig1 = [ 0, 1, 0 ]\n",
    "pig2 = [ 0, 1, 1 ]\n",
    "pig3 = [ 1, 1, 0 ]\n",
    "\n",
    "dog1 = [ 0, 1, 1 ]\n",
    "dog2 = [ 1, 0, 1 ]\n",
    "dog3 = [ 1, 1, 1 ]\n",
    "\n",
    "# pig => 1, dog => 0\n",
    "\n",
    "train_x = [ pig1, pig2, pig3, dog1, dog2, dog3 ]\n",
    "train_y = [ 1, 1, 1, 0, 0, 0 ] # labels\n"
   ]
  },
  {
   "cell_type": "code",
   "execution_count": 9,
   "id": "c274af69-10f6-4ee0-b93e-911a7d59fc8c",
   "metadata": {},
   "outputs": [
    {
     "data": {
      "text/html": [
       "<style>#sk-container-id-2 {color: black;background-color: white;}#sk-container-id-2 pre{padding: 0;}#sk-container-id-2 div.sk-toggleable {background-color: white;}#sk-container-id-2 label.sk-toggleable__label {cursor: pointer;display: block;width: 100%;margin-bottom: 0;padding: 0.3em;box-sizing: border-box;text-align: center;}#sk-container-id-2 label.sk-toggleable__label-arrow:before {content: \"▸\";float: left;margin-right: 0.25em;color: #696969;}#sk-container-id-2 label.sk-toggleable__label-arrow:hover:before {color: black;}#sk-container-id-2 div.sk-estimator:hover label.sk-toggleable__label-arrow:before {color: black;}#sk-container-id-2 div.sk-toggleable__content {max-height: 0;max-width: 0;overflow: hidden;text-align: left;background-color: #f0f8ff;}#sk-container-id-2 div.sk-toggleable__content pre {margin: 0.2em;color: black;border-radius: 0.25em;background-color: #f0f8ff;}#sk-container-id-2 input.sk-toggleable__control:checked~div.sk-toggleable__content {max-height: 200px;max-width: 100%;overflow: auto;}#sk-container-id-2 input.sk-toggleable__control:checked~label.sk-toggleable__label-arrow:before {content: \"▾\";}#sk-container-id-2 div.sk-estimator input.sk-toggleable__control:checked~label.sk-toggleable__label {background-color: #d4ebff;}#sk-container-id-2 div.sk-label input.sk-toggleable__control:checked~label.sk-toggleable__label {background-color: #d4ebff;}#sk-container-id-2 input.sk-hidden--visually {border: 0;clip: rect(1px 1px 1px 1px);clip: rect(1px, 1px, 1px, 1px);height: 1px;margin: -1px;overflow: hidden;padding: 0;position: absolute;width: 1px;}#sk-container-id-2 div.sk-estimator {font-family: monospace;background-color: #f0f8ff;border: 1px dotted black;border-radius: 0.25em;box-sizing: border-box;margin-bottom: 0.5em;}#sk-container-id-2 div.sk-estimator:hover {background-color: #d4ebff;}#sk-container-id-2 div.sk-parallel-item::after {content: \"\";width: 100%;border-bottom: 1px solid gray;flex-grow: 1;}#sk-container-id-2 div.sk-label:hover label.sk-toggleable__label {background-color: #d4ebff;}#sk-container-id-2 div.sk-serial::before {content: \"\";position: absolute;border-left: 1px solid gray;box-sizing: border-box;top: 0;bottom: 0;left: 50%;z-index: 0;}#sk-container-id-2 div.sk-serial {display: flex;flex-direction: column;align-items: center;background-color: white;padding-right: 0.2em;padding-left: 0.2em;position: relative;}#sk-container-id-2 div.sk-item {position: relative;z-index: 1;}#sk-container-id-2 div.sk-parallel {display: flex;align-items: stretch;justify-content: center;background-color: white;position: relative;}#sk-container-id-2 div.sk-item::before, #sk-container-id-2 div.sk-parallel-item::before {content: \"\";position: absolute;border-left: 1px solid gray;box-sizing: border-box;top: 0;bottom: 0;left: 50%;z-index: -1;}#sk-container-id-2 div.sk-parallel-item {display: flex;flex-direction: column;z-index: 1;position: relative;background-color: white;}#sk-container-id-2 div.sk-parallel-item:first-child::after {align-self: flex-end;width: 50%;}#sk-container-id-2 div.sk-parallel-item:last-child::after {align-self: flex-start;width: 50%;}#sk-container-id-2 div.sk-parallel-item:only-child::after {width: 0;}#sk-container-id-2 div.sk-dashed-wrapped {border: 1px dashed gray;margin: 0 0.4em 0.5em 0.4em;box-sizing: border-box;padding-bottom: 0.4em;background-color: white;}#sk-container-id-2 div.sk-label label {font-family: monospace;font-weight: bold;display: inline-block;line-height: 1.2em;}#sk-container-id-2 div.sk-label-container {text-align: center;}#sk-container-id-2 div.sk-container {/* jupyter's `normalize.less` sets `[hidden] { display: none; }` but bootstrap.min.css set `[hidden] { display: none !important; }` so we also need the `!important` here to be able to override the default hidden behavior on the sphinx rendered scikit-learn.org. See: https://github.com/scikit-learn/scikit-learn/issues/21755 */display: inline-block !important;position: relative;}#sk-container-id-2 div.sk-text-repr-fallback {display: none;}</style><div id=\"sk-container-id-2\" class=\"sk-top-container\"><div class=\"sk-text-repr-fallback\"><pre>LinearSVC()</pre><b>In a Jupyter environment, please rerun this cell to show the HTML representation or trust the notebook. <br />On GitHub, the HTML representation is unable to render, please try loading this page with nbviewer.org.</b></div><div class=\"sk-container\" hidden><div class=\"sk-item\"><div class=\"sk-estimator sk-toggleable\"><input class=\"sk-toggleable__control sk-hidden--visually\" id=\"sk-estimator-id-2\" type=\"checkbox\" checked><label for=\"sk-estimator-id-2\" class=\"sk-toggleable__label sk-toggleable__label-arrow\">LinearSVC</label><div class=\"sk-toggleable__content\"><pre>LinearSVC()</pre></div></div></div></div></div>"
      ],
      "text/plain": [
       "LinearSVC()"
      ]
     },
     "execution_count": 9,
     "metadata": {},
     "output_type": "execute_result"
    }
   ],
   "source": [
    "# importando módulo LinearSVC\n",
    "from sklearn.svm import LinearSVC\n",
    "\n",
    "# adaptando os dados e classes método fit\n",
    "model = LinearSVC()\n",
    "model.fit(train_x, train_y)"
   ]
  },
  {
   "cell_type": "code",
   "execution_count": 10,
   "id": "14d188d1-3786-4023-a63b-cb636cab9290",
   "metadata": {},
   "outputs": [
    {
     "data": {
      "text/plain": [
       "array([0])"
      ]
     },
     "execution_count": 10,
     "metadata": {},
     "output_type": "execute_result"
    }
   ],
   "source": [
    "# teste de previsão \n",
    "animal_misterioso = [ 1, 1, 1 ]\n",
    "model.predict([animal_misterioso])"
   ]
  },
  {
   "cell_type": "code",
   "execution_count": 11,
   "id": "961b632c-ebc7-4afa-8715-cc7d67e6537b",
   "metadata": {},
   "outputs": [],
   "source": [
    "\n",
    "misterio1 = [ 1, 1, 1 ]\n",
    "misterio2 = [ 1, 1, 0 ]\n",
    "misterio3 = [ 0, 1, 1 ]\n",
    "\n",
    "# previsoes de 3 animais misteriosos\n",
    "test_x = [ misterio1, misterio2, misterio3 ]\n",
    "test_y = [ 0, 1, 1 ]\n",
    "\n"
   ]
  },
  {
   "cell_type": "code",
   "execution_count": 12,
   "id": "0218edbb-25e7-49e4-a00f-ff6af9c11d27",
   "metadata": {},
   "outputs": [],
   "source": [
    "previsoes = model.predict(teste)"
   ]
  },
  {
   "cell_type": "code",
   "execution_count": 19,
   "id": "514e6f98-0d5c-4ac9-abc1-9b20095ee3c9",
   "metadata": {},
   "outputs": [
    {
     "name": "stdout",
     "output_type": "stream",
     "text": [
      "Taxa de acerto: 66.67\n"
     ]
    }
   ],
   "source": [
    "# teste de acertos manual\n",
    "corretos = (previsoes == test_y).sum()\n",
    "total = len(test_x)\n",
    "taxa_de_acerto = corretos / total\n",
    "print (f\"Taxa de acerto: {taxa_de_acerto*100:.2f}\")"
   ]
  },
  {
   "cell_type": "code",
   "execution_count": 18,
   "id": "3b218dc4-a95d-4340-839d-32ad95d13b5a",
   "metadata": {},
   "outputs": [
    {
     "name": "stdout",
     "output_type": "stream",
     "text": [
      "Taxa de acerto: 66.67\n"
     ]
    }
   ],
   "source": [
    "# teste de acertos usando a função accuracy_score\n",
    "\n",
    "from sklearn.metrics import accuracy_score\n",
    "\n",
    "taxa_de_acerto2 = accuracy_score(test_y, previsoes)\n",
    "print (f\"Taxa de acerto: {taxa_de_acerto2*100:.2f}\")"
   ]
  },
  {
   "cell_type": "markdown",
   "id": "94035f13-e155-4b7f-bfbc-a08cb8b38cfc",
   "metadata": {},
   "source": [
    "## 02. Testes replicáveis, estratificação e lendo dados da internet\n"
   ]
  },
  {
   "cell_type": "code",
   "execution_count": null,
   "id": "3af71488-d31e-435f-81b6-8b49008d18b9",
   "metadata": {},
   "outputs": [],
   "source": []
  }
 ],
 "metadata": {
  "kernelspec": {
   "display_name": "Python 3 (ipykernel)",
   "language": "python",
   "name": "python3"
  },
  "language_info": {
   "codemirror_mode": {
    "name": "ipython",
    "version": 3
   },
   "file_extension": ".py",
   "mimetype": "text/x-python",
   "name": "python",
   "nbconvert_exporter": "python",
   "pygments_lexer": "ipython3",
   "version": "3.8.15"
  }
 },
 "nbformat": 4,
 "nbformat_minor": 5
}
